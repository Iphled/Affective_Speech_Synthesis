{
 "cells": [
  {
   "cell_type": "code",
   "id": "initial_id",
   "metadata": {
    "collapsed": true,
    "ExecuteTime": {
     "end_time": "2025-02-09T20:05:42.696297Z",
     "start_time": "2025-02-09T20:05:42.688835Z"
    }
   },
   "source": [
    "from Project.Text_to_speech import text_to_speech\n",
    "from Project.main import gtts_to_audiosegment\n",
    "\n",
    "f = open(\"Benchmark_easy.txt\", \"r\")\n",
    "lines=f.readlines()\n",
    "for i in range(len(lines)):\n",
    "    lines[i]=lines[i].replace(\"\\n\",\"\")\n",
    "lines"
   ],
   "outputs": [
    {
     "data": {
      "text/plain": [
       "['I have never seen her.',\n",
       " \"It's raining today.\",\n",
       " 'I write when I feel inspired.',\n",
       " \"I'm not feeling all that creative today.\",\n",
       " 'I feel like my mind is so blank.',\n",
       " 'Give me some more time to finish up.',\n",
       " 'The children are playing in the garden.',\n",
       " 'My hometown is on the news.',\n",
       " \"It's a good sign.\",\n",
       " 'Please answer my inquery.',\n",
       " 'Did you feel well?',\n",
       " \"I don't like the thought of seeing him upset.\"]"
      ]
     },
     "execution_count": 8,
     "metadata": {},
     "output_type": "execute_result"
    }
   ],
   "execution_count": 8
  },
  {
   "metadata": {
    "ExecuteTime": {
     "end_time": "2025-02-09T20:06:23.395638Z",
     "start_time": "2025-02-09T20:06:17.661555Z"
    }
   },
   "cell_type": "code",
   "source": [
    "import Text_to_speech\n",
    "import main\n",
    "\n",
    "for i in range(len(lines)):\n",
    "    audio=text_to_speech(lines[i])\n",
    "    audio=gtts_to_audiosegment(audio)[1]\n",
    "    audio.export(\"data/benchmark_audios/TTS_easy/\"+str(i)+\".wav\",format=\"wav\")"
   ],
   "id": "f0f31b5972968bc3",
   "outputs": [],
   "execution_count": 11
  },
  {
   "metadata": {
    "ExecuteTime": {
     "end_time": "2025-02-09T20:07:40.316397Z",
     "start_time": "2025-02-09T20:07:40.312432Z"
    }
   },
   "cell_type": "code",
   "source": [
    "f = open(\"Benchmark_complicated.txt\", \"r\")\n",
    "lines=f.readlines()\n",
    "for i in range(len(lines)):\n",
    "    lines[i]=lines[i].replace(\"\\n\",\"\")\n",
    "lines"
   ],
   "id": "c18a2fa5340e178d",
   "outputs": [
    {
     "data": {
      "text/plain": [
       "[\"After all that happened, I can't imagine my life any other way.\",\n",
       " \"I feel like if I dont stop and be thankful for them now, I will blink and they'll just be a memory.\",\n",
       " 'I used an empathetic voice toned statement when I said \"you feel scared because he threatened you\".',\n",
       " 'I remember feeling depressed in college when I learned of so many ways in which I was far from perfect.',\n",
       " 'I feel like im really making progress and I am determined to not let things get so out of control again.',\n",
       " 'I feel summer coming and catch a glimpse of a gorgeous maxi dress or a beach skirt and I have to run away literally.',\n",
       " \"I kinda feel like I didn't get the chance to just be angry and hurt about what was being said about myself and her.\",\n",
       " 'I dont mind it so much when im painting because then I feel artistic if I look in the mirror and see a color on me but grease.',\n",
       " 'I feel it is vital to engage with patients at every opportunity on what good nutrition looks like and dispel some of the myths.',\n",
       " 'I was feeling a little annoyed about the whole thing, because we had a schedule, and driving home first was going to really put a kink in it.',\n",
       " \"I'm feeling slightly out of the loop, so i broke down, decided not to wait months to get a copy from the library and slapped down a gift card.\",\n",
       " 'I was different than my dormmates and while they sometimes tried to include me in the fun, I had the distinct feeling that my train of thought was unwelcome and that I was very different from everyone else there which led to a feeling of frustration at being unable to express myself.']"
      ]
     },
     "execution_count": 12,
     "metadata": {},
     "output_type": "execute_result"
    }
   ],
   "execution_count": 12
  },
  {
   "metadata": {
    "ExecuteTime": {
     "end_time": "2025-02-09T20:13:08.035162Z",
     "start_time": "2025-02-09T20:12:56.896397Z"
    }
   },
   "cell_type": "code",
   "source": [
    "for i in range(len(lines)):\n",
    "    audio=text_to_speech(lines[i])\n",
    "    audio=gtts_to_audiosegment(audio)[1]\n",
    "    audio.export(\"data/benchmark_audios/TTS_complicated/\"+str(i)+\".wav\",format=\"wav\")"
   ],
   "id": "ebb02091022a2338",
   "outputs": [],
   "execution_count": 15
  }
 ],
 "metadata": {
  "kernelspec": {
   "display_name": "Python 3",
   "language": "python",
   "name": "python3"
  },
  "language_info": {
   "codemirror_mode": {
    "name": "ipython",
    "version": 2
   },
   "file_extension": ".py",
   "mimetype": "text/x-python",
   "name": "python",
   "nbconvert_exporter": "python",
   "pygments_lexer": "ipython2",
   "version": "2.7.6"
  }
 },
 "nbformat": 4,
 "nbformat_minor": 5
}
