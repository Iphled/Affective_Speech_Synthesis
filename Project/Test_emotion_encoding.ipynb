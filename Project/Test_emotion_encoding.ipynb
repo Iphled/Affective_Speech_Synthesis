{
 "cells": [
  {
   "metadata": {
    "ExecuteTime": {
     "end_time": "2025-02-03T23:32:37.426151Z",
     "start_time": "2025-02-03T23:32:37.219201Z"
    }
   },
   "cell_type": "code",
   "source": [
    "from pydub import AudioSegment\n",
    "from scipy.io.wavfile import read"
   ],
   "id": "549d585185a478e7",
   "outputs": [],
   "execution_count": 1
  },
  {
   "cell_type": "code",
   "id": "initial_id",
   "metadata": {
    "collapsed": true,
    "ExecuteTime": {
     "end_time": "2025-02-03T23:39:39.188852Z",
     "start_time": "2025-02-03T23:39:39.028042Z"
    }
   },
   "source": [
    "from Project.write_back_audio import write_back_audio\n",
    "\n",
    "audioname=\"data/AudioWAV/1002_IEO_NEU_XX.wav\"\n",
    "rate, data = read(audioname)\n",
    "audio = AudioSegment.from_file(audioname, 'r')\n",
    "length = data.shape[0] / rate\n",
    "\n",
    "#sadness\n",
    "final=write_back_audio([0.5,0.5,0.5,0.5,0.5,0.5,0.4,0.4],[1,1,1,0.8,0.6,0.4,0.1],[0.5,0.5,0.5,0.1,-1,-2,-2,-2],audio,length)\n",
    "final.export(\"data/1002_IEO_NEU_XX_sad.wav\", format=\"wav\")"
   ],
   "outputs": [
    {
     "data": {
      "text/plain": [
       "<_io.BufferedRandom name='data/1002_IEO_NEU_XX_sad.wav'>"
      ]
     },
     "execution_count": 12,
     "metadata": {},
     "output_type": "execute_result"
    }
   ],
   "execution_count": 12
  },
  {
   "metadata": {
    "ExecuteTime": {
     "end_time": "2025-02-03T23:47:29.842061Z",
     "start_time": "2025-02-03T23:47:29.740473Z"
    }
   },
   "cell_type": "code",
   "source": [
    "#happiness\n",
    "final=write_back_audio([1.2,1.2,1.2,1.2,1.2,1.2,1.2,1.2],[1,1,1,1,1,1,1],[-1,0,0,0.3,0.7,1,2,3],audio,length)\n",
    "final.export(\"data/1002_IEO_NEU_XX_happy.wav\", format=\"wav\")"
   ],
   "id": "261439a9ae12c1d5",
   "outputs": [
    {
     "data": {
      "text/plain": [
       "<_io.BufferedRandom name='data/1002_IEO_NEU_XX_happy.wav'>"
      ]
     },
     "execution_count": 20,
     "metadata": {},
     "output_type": "execute_result"
    }
   ],
   "execution_count": 20
  },
  {
   "metadata": {
    "ExecuteTime": {
     "end_time": "2025-02-03T23:51:12.037106Z",
     "start_time": "2025-02-03T23:51:11.912834Z"
    }
   },
   "cell_type": "code",
   "source": [
    "#anger\n",
    "final=write_back_audio([0.8,0.8,0.8,0.8,0.8,0.8,0.8,0.8],[1,1.2,1.5,2,2.5,3,4],[-1,0,0,0.3,0.7,1,2,3],audio,length)\n",
    "final.export(\"data/1002_IEO_NEU_XX_anger.wav\", format=\"wav\")"
   ],
   "id": "5b22063f0b8a6c1",
   "outputs": [
    {
     "data": {
      "text/plain": [
       "<_io.BufferedRandom name='data/1002_IEO_NEU_XX_anger.wav'>"
      ]
     },
     "execution_count": 26,
     "metadata": {},
     "output_type": "execute_result"
    }
   ],
   "execution_count": 26
  },
  {
   "metadata": {
    "ExecuteTime": {
     "end_time": "2025-02-03T23:53:51.843022Z",
     "start_time": "2025-02-03T23:53:51.727803Z"
    }
   },
   "cell_type": "code",
   "source": [
    "#fear\n",
    "final=write_back_audio([1,1,1,1,1,1,1,1],[1,1,1,0.6,0.2,0.1,0.1],[2,2,2,0.1,-0,-0,-1,-2],audio,length)\n",
    "final.export(\"data/1002_IEO_NEU_XX_fear.wav\", format=\"wav\")"
   ],
   "id": "541613f63616259a",
   "outputs": [
    {
     "data": {
      "text/plain": [
       "<_io.BufferedRandom name='data/1002_IEO_NEU_XX_fear.wav'>"
      ]
     },
     "execution_count": 30,
     "metadata": {},
     "output_type": "execute_result"
    }
   ],
   "execution_count": 30
  }
 ],
 "metadata": {
  "kernelspec": {
   "display_name": "Python 3",
   "language": "python",
   "name": "python3"
  },
  "language_info": {
   "codemirror_mode": {
    "name": "ipython",
    "version": 2
   },
   "file_extension": ".py",
   "mimetype": "text/x-python",
   "name": "python",
   "nbconvert_exporter": "python",
   "pygments_lexer": "ipython2",
   "version": "2.7.6"
  }
 },
 "nbformat": 4,
 "nbformat_minor": 5
}
