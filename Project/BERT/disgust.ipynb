{
 "cells": [
  {
   "cell_type": "code",
   "id": "initial_id",
   "metadata": {
    "collapsed": true,
    "ExecuteTime": {
     "end_time": "2025-01-28T11:54:45.760891Z",
     "start_time": "2025-01-28T11:54:45.757632Z"
    }
   },
   "source": [
    ""
   ],
   "outputs": [],
   "execution_count": null
  },
  {
   "metadata": {
    "ExecuteTime": {
     "end_time": "2025-01-28T11:54:46.411668Z",
     "start_time": "2025-01-28T11:54:45.798844Z"
    }
   },
   "cell_type": "code",
   "source": [
    "import pandas as pd\n",
    "from transformers import pipeline\n",
    "\n",
    "df = pd.read_csv(\"data/BERT_annotated_data.csv\")\n",
    "df"
   ],
   "id": "99a3b58b4a134806",
   "outputs": [
    {
     "data": {
      "text/plain": [
       "                                                     text emotions  \\\n",
       "0       i feel awful about it too because it s my job ...  sadness   \n",
       "1                                   im alone i feel awful  sadness   \n",
       "2       ive probably mentioned this before but i reall...      joy   \n",
       "3                i was feeling a little low few days back  sadness   \n",
       "4       i am one of those people who feels like going ...      joy   \n",
       "...                                                   ...      ...   \n",
       "367278  that was what i felt when i was finally accept...      joy   \n",
       "367279  i take every day as it comes i m just focussin...     fear   \n",
       "367280      i just suddenly feel that everything was fake  sadness   \n",
       "367281  im feeling more eager than ever to claw back w...      joy   \n",
       "367282  i give you plenty of attention even when i fee...  sadness   \n",
       "\n",
       "       emotion_label  emotion_score  \n",
       "0            sadness       0.992340  \n",
       "1            sadness       0.991029  \n",
       "2                joy       0.991750  \n",
       "3            sadness       0.993073  \n",
       "4                joy       0.994777  \n",
       "...              ...            ...  \n",
       "367278           joy       0.994722  \n",
       "367279          fear       0.988913  \n",
       "367280         anger       0.631073  \n",
       "367281           joy       0.990823  \n",
       "367282       sadness       0.993329  \n",
       "\n",
       "[367283 rows x 4 columns]"
      ],
      "text/html": [
       "<div>\n",
       "<style scoped>\n",
       "    .dataframe tbody tr th:only-of-type {\n",
       "        vertical-align: middle;\n",
       "    }\n",
       "\n",
       "    .dataframe tbody tr th {\n",
       "        vertical-align: top;\n",
       "    }\n",
       "\n",
       "    .dataframe thead th {\n",
       "        text-align: right;\n",
       "    }\n",
       "</style>\n",
       "<table border=\"1\" class=\"dataframe\">\n",
       "  <thead>\n",
       "    <tr style=\"text-align: right;\">\n",
       "      <th></th>\n",
       "      <th>text</th>\n",
       "      <th>emotions</th>\n",
       "      <th>emotion_label</th>\n",
       "      <th>emotion_score</th>\n",
       "    </tr>\n",
       "  </thead>\n",
       "  <tbody>\n",
       "    <tr>\n",
       "      <th>0</th>\n",
       "      <td>i feel awful about it too because it s my job ...</td>\n",
       "      <td>sadness</td>\n",
       "      <td>sadness</td>\n",
       "      <td>0.992340</td>\n",
       "    </tr>\n",
       "    <tr>\n",
       "      <th>1</th>\n",
       "      <td>im alone i feel awful</td>\n",
       "      <td>sadness</td>\n",
       "      <td>sadness</td>\n",
       "      <td>0.991029</td>\n",
       "    </tr>\n",
       "    <tr>\n",
       "      <th>2</th>\n",
       "      <td>ive probably mentioned this before but i reall...</td>\n",
       "      <td>joy</td>\n",
       "      <td>joy</td>\n",
       "      <td>0.991750</td>\n",
       "    </tr>\n",
       "    <tr>\n",
       "      <th>3</th>\n",
       "      <td>i was feeling a little low few days back</td>\n",
       "      <td>sadness</td>\n",
       "      <td>sadness</td>\n",
       "      <td>0.993073</td>\n",
       "    </tr>\n",
       "    <tr>\n",
       "      <th>4</th>\n",
       "      <td>i am one of those people who feels like going ...</td>\n",
       "      <td>joy</td>\n",
       "      <td>joy</td>\n",
       "      <td>0.994777</td>\n",
       "    </tr>\n",
       "    <tr>\n",
       "      <th>...</th>\n",
       "      <td>...</td>\n",
       "      <td>...</td>\n",
       "      <td>...</td>\n",
       "      <td>...</td>\n",
       "    </tr>\n",
       "    <tr>\n",
       "      <th>367278</th>\n",
       "      <td>that was what i felt when i was finally accept...</td>\n",
       "      <td>joy</td>\n",
       "      <td>joy</td>\n",
       "      <td>0.994722</td>\n",
       "    </tr>\n",
       "    <tr>\n",
       "      <th>367279</th>\n",
       "      <td>i take every day as it comes i m just focussin...</td>\n",
       "      <td>fear</td>\n",
       "      <td>fear</td>\n",
       "      <td>0.988913</td>\n",
       "    </tr>\n",
       "    <tr>\n",
       "      <th>367280</th>\n",
       "      <td>i just suddenly feel that everything was fake</td>\n",
       "      <td>sadness</td>\n",
       "      <td>anger</td>\n",
       "      <td>0.631073</td>\n",
       "    </tr>\n",
       "    <tr>\n",
       "      <th>367281</th>\n",
       "      <td>im feeling more eager than ever to claw back w...</td>\n",
       "      <td>joy</td>\n",
       "      <td>joy</td>\n",
       "      <td>0.990823</td>\n",
       "    </tr>\n",
       "    <tr>\n",
       "      <th>367282</th>\n",
       "      <td>i give you plenty of attention even when i fee...</td>\n",
       "      <td>sadness</td>\n",
       "      <td>sadness</td>\n",
       "      <td>0.993329</td>\n",
       "    </tr>\n",
       "  </tbody>\n",
       "</table>\n",
       "<p>367283 rows × 4 columns</p>\n",
       "</div>"
      ]
     },
     "execution_count": 74,
     "metadata": {},
     "output_type": "execute_result"
    }
   ],
   "execution_count": 74
  },
  {
   "metadata": {
    "ExecuteTime": {
     "end_time": "2025-01-28T11:54:46.496845Z",
     "start_time": "2025-01-28T11:54:46.451624Z"
    }
   },
   "cell_type": "code",
   "source": "df.loc[df[\"emotion_label\"] == \"disgust\"]",
   "id": "2a2190410f05dfc3",
   "outputs": [
    {
     "data": {
      "text/plain": [
       "                                                     text emotions  \\\n",
       "1452              someone called me a disgusting nickname    anger   \n",
       "1543    some people were sitting outside and saying th...    anger   \n",
       "2014                 when i saw an insect going up my arm    anger   \n",
       "2364    i discovered that someone is laughing at her w...    anger   \n",
       "4985    when i heard that a woman of my community had ...    anger   \n",
       "...                                                   ...      ...   \n",
       "363738  i was looking at a oneman show on television h...    anger   \n",
       "364222  the day i went to eat dinner in the dinning ha...    anger   \n",
       "365578  i am disgusted by people who spoil their ident...    anger   \n",
       "366729  i feel like those thoughts are vile and disgus...    anger   \n",
       "366989  im not really sure how i feel about this becau...      joy   \n",
       "\n",
       "       emotion_label  emotion_score  \n",
       "1452         disgust       0.989337  \n",
       "1543         disgust       0.693434  \n",
       "2014         disgust       0.620516  \n",
       "2364         disgust       0.492052  \n",
       "4985         disgust       0.901712  \n",
       "...              ...            ...  \n",
       "363738       disgust       0.980614  \n",
       "364222       disgust       0.390364  \n",
       "365578       disgust       0.808426  \n",
       "366729       disgust       0.754760  \n",
       "366989       disgust       0.741399  \n",
       "\n",
       "[536 rows x 4 columns]"
      ],
      "text/html": [
       "<div>\n",
       "<style scoped>\n",
       "    .dataframe tbody tr th:only-of-type {\n",
       "        vertical-align: middle;\n",
       "    }\n",
       "\n",
       "    .dataframe tbody tr th {\n",
       "        vertical-align: top;\n",
       "    }\n",
       "\n",
       "    .dataframe thead th {\n",
       "        text-align: right;\n",
       "    }\n",
       "</style>\n",
       "<table border=\"1\" class=\"dataframe\">\n",
       "  <thead>\n",
       "    <tr style=\"text-align: right;\">\n",
       "      <th></th>\n",
       "      <th>text</th>\n",
       "      <th>emotions</th>\n",
       "      <th>emotion_label</th>\n",
       "      <th>emotion_score</th>\n",
       "    </tr>\n",
       "  </thead>\n",
       "  <tbody>\n",
       "    <tr>\n",
       "      <th>1452</th>\n",
       "      <td>someone called me a disgusting nickname</td>\n",
       "      <td>anger</td>\n",
       "      <td>disgust</td>\n",
       "      <td>0.989337</td>\n",
       "    </tr>\n",
       "    <tr>\n",
       "      <th>1543</th>\n",
       "      <td>some people were sitting outside and saying th...</td>\n",
       "      <td>anger</td>\n",
       "      <td>disgust</td>\n",
       "      <td>0.693434</td>\n",
       "    </tr>\n",
       "    <tr>\n",
       "      <th>2014</th>\n",
       "      <td>when i saw an insect going up my arm</td>\n",
       "      <td>anger</td>\n",
       "      <td>disgust</td>\n",
       "      <td>0.620516</td>\n",
       "    </tr>\n",
       "    <tr>\n",
       "      <th>2364</th>\n",
       "      <td>i discovered that someone is laughing at her w...</td>\n",
       "      <td>anger</td>\n",
       "      <td>disgust</td>\n",
       "      <td>0.492052</td>\n",
       "    </tr>\n",
       "    <tr>\n",
       "      <th>4985</th>\n",
       "      <td>when i heard that a woman of my community had ...</td>\n",
       "      <td>anger</td>\n",
       "      <td>disgust</td>\n",
       "      <td>0.901712</td>\n",
       "    </tr>\n",
       "    <tr>\n",
       "      <th>...</th>\n",
       "      <td>...</td>\n",
       "      <td>...</td>\n",
       "      <td>...</td>\n",
       "      <td>...</td>\n",
       "    </tr>\n",
       "    <tr>\n",
       "      <th>363738</th>\n",
       "      <td>i was looking at a oneman show on television h...</td>\n",
       "      <td>anger</td>\n",
       "      <td>disgust</td>\n",
       "      <td>0.980614</td>\n",
       "    </tr>\n",
       "    <tr>\n",
       "      <th>364222</th>\n",
       "      <td>the day i went to eat dinner in the dinning ha...</td>\n",
       "      <td>anger</td>\n",
       "      <td>disgust</td>\n",
       "      <td>0.390364</td>\n",
       "    </tr>\n",
       "    <tr>\n",
       "      <th>365578</th>\n",
       "      <td>i am disgusted by people who spoil their ident...</td>\n",
       "      <td>anger</td>\n",
       "      <td>disgust</td>\n",
       "      <td>0.808426</td>\n",
       "    </tr>\n",
       "    <tr>\n",
       "      <th>366729</th>\n",
       "      <td>i feel like those thoughts are vile and disgus...</td>\n",
       "      <td>anger</td>\n",
       "      <td>disgust</td>\n",
       "      <td>0.754760</td>\n",
       "    </tr>\n",
       "    <tr>\n",
       "      <th>366989</th>\n",
       "      <td>im not really sure how i feel about this becau...</td>\n",
       "      <td>joy</td>\n",
       "      <td>disgust</td>\n",
       "      <td>0.741399</td>\n",
       "    </tr>\n",
       "  </tbody>\n",
       "</table>\n",
       "<p>536 rows × 4 columns</p>\n",
       "</div>"
      ]
     },
     "execution_count": 75,
     "metadata": {},
     "output_type": "execute_result"
    }
   ],
   "execution_count": 75
  },
  {
   "metadata": {
    "ExecuteTime": {
     "end_time": "2025-01-28T11:54:46.702179Z",
     "start_time": "2025-01-28T11:54:46.658803Z"
    }
   },
   "cell_type": "code",
   "source": [
    "falsche_zeilen = df.loc[df[\"emotions\"] != df[\"emotion_label\"]]\n",
    "1-(len(falsche_zeilen) / len(df[\"emotions\"]))"
   ],
   "id": "8d42639f67cc274e",
   "outputs": [
    {
     "data": {
      "text/plain": [
       "0.9167399525706336"
      ]
     },
     "execution_count": 76,
     "metadata": {},
     "output_type": "execute_result"
    }
   ],
   "execution_count": 76
  },
  {
   "metadata": {
    "ExecuteTime": {
     "end_time": "2025-01-28T11:54:46.897908Z",
     "start_time": "2025-01-28T11:54:46.853558Z"
    }
   },
   "cell_type": "code",
   "source": [
    "surprise_zeilen = falsche_zeilen.loc[df[\"emotion_label\"] == \"surprise\"]\n",
    "disgust_zeilen = falsche_zeilen.loc[df[\"emotion_label\"] == \"disgust\"]\n",
    "((len(surprise_zeilen)+len(disgust_zeilen)) / len(falsche_zeilen))"
   ],
   "id": "9d59b356abad3f97",
   "outputs": [
    {
     "data": {
      "text/plain": [
       "0.18986265533028124"
      ]
     },
     "execution_count": 77,
     "metadata": {},
     "output_type": "execute_result"
    }
   ],
   "execution_count": 77
  },
  {
   "metadata": {
    "ExecuteTime": {
     "end_time": "2025-01-28T11:54:46.997927Z",
     "start_time": "2025-01-28T11:54:46.994217Z"
    }
   },
   "cell_type": "code",
   "source": "1-((len(surprise_zeilen)+len(disgust_zeilen)) / len(df))",
   "id": "cee321cf0faaa2f8",
   "outputs": [
    {
     "data": {
      "text/plain": [
       "0.9841920263121353"
      ]
     },
     "execution_count": 78,
     "metadata": {},
     "output_type": "execute_result"
    }
   ],
   "execution_count": 78
  },
  {
   "metadata": {
    "ExecuteTime": {
     "end_time": "2025-01-28T11:54:47.154219Z",
     "start_time": "2025-01-28T11:54:47.144041Z"
    }
   },
   "cell_type": "code",
   "source": [
    "wrong=pd.concat([disgust_zeilen,surprise_zeilen])\n",
    "wrong"
   ],
   "id": "6692c43c68151682",
   "outputs": [
    {
     "data": {
      "text/plain": [
       "                                                     text emotions  \\\n",
       "1452              someone called me a disgusting nickname    anger   \n",
       "1543    some people were sitting outside and saying th...    anger   \n",
       "2014                 when i saw an insect going up my arm    anger   \n",
       "2364    i discovered that someone is laughing at her w...    anger   \n",
       "4985    when i heard that a woman of my community had ...    anger   \n",
       "...                                                   ...      ...   \n",
       "366946  i have been feeling very overwhelmed lately wo...     fear   \n",
       "366954  i feel look weird with straight hair its growi...     fear   \n",
       "366957  i have been feeling really overwhelmed and lik...     fear   \n",
       "367137  i still feel highly suspicious but not unduly ...     fear   \n",
       "367260                                 i feel totes weird     fear   \n",
       "\n",
       "       emotion_label  emotion_score  \n",
       "1452         disgust       0.989337  \n",
       "1543         disgust       0.693434  \n",
       "2014         disgust       0.620516  \n",
       "2364         disgust       0.492052  \n",
       "4985         disgust       0.901712  \n",
       "...              ...            ...  \n",
       "366946      surprise       0.732936  \n",
       "366954      surprise       0.625703  \n",
       "366957      surprise       0.818584  \n",
       "367137      surprise       0.526403  \n",
       "367260      surprise       0.498118  \n",
       "\n",
       "[5806 rows x 4 columns]"
      ],
      "text/html": [
       "<div>\n",
       "<style scoped>\n",
       "    .dataframe tbody tr th:only-of-type {\n",
       "        vertical-align: middle;\n",
       "    }\n",
       "\n",
       "    .dataframe tbody tr th {\n",
       "        vertical-align: top;\n",
       "    }\n",
       "\n",
       "    .dataframe thead th {\n",
       "        text-align: right;\n",
       "    }\n",
       "</style>\n",
       "<table border=\"1\" class=\"dataframe\">\n",
       "  <thead>\n",
       "    <tr style=\"text-align: right;\">\n",
       "      <th></th>\n",
       "      <th>text</th>\n",
       "      <th>emotions</th>\n",
       "      <th>emotion_label</th>\n",
       "      <th>emotion_score</th>\n",
       "    </tr>\n",
       "  </thead>\n",
       "  <tbody>\n",
       "    <tr>\n",
       "      <th>1452</th>\n",
       "      <td>someone called me a disgusting nickname</td>\n",
       "      <td>anger</td>\n",
       "      <td>disgust</td>\n",
       "      <td>0.989337</td>\n",
       "    </tr>\n",
       "    <tr>\n",
       "      <th>1543</th>\n",
       "      <td>some people were sitting outside and saying th...</td>\n",
       "      <td>anger</td>\n",
       "      <td>disgust</td>\n",
       "      <td>0.693434</td>\n",
       "    </tr>\n",
       "    <tr>\n",
       "      <th>2014</th>\n",
       "      <td>when i saw an insect going up my arm</td>\n",
       "      <td>anger</td>\n",
       "      <td>disgust</td>\n",
       "      <td>0.620516</td>\n",
       "    </tr>\n",
       "    <tr>\n",
       "      <th>2364</th>\n",
       "      <td>i discovered that someone is laughing at her w...</td>\n",
       "      <td>anger</td>\n",
       "      <td>disgust</td>\n",
       "      <td>0.492052</td>\n",
       "    </tr>\n",
       "    <tr>\n",
       "      <th>4985</th>\n",
       "      <td>when i heard that a woman of my community had ...</td>\n",
       "      <td>anger</td>\n",
       "      <td>disgust</td>\n",
       "      <td>0.901712</td>\n",
       "    </tr>\n",
       "    <tr>\n",
       "      <th>...</th>\n",
       "      <td>...</td>\n",
       "      <td>...</td>\n",
       "      <td>...</td>\n",
       "      <td>...</td>\n",
       "    </tr>\n",
       "    <tr>\n",
       "      <th>366946</th>\n",
       "      <td>i have been feeling very overwhelmed lately wo...</td>\n",
       "      <td>fear</td>\n",
       "      <td>surprise</td>\n",
       "      <td>0.732936</td>\n",
       "    </tr>\n",
       "    <tr>\n",
       "      <th>366954</th>\n",
       "      <td>i feel look weird with straight hair its growi...</td>\n",
       "      <td>fear</td>\n",
       "      <td>surprise</td>\n",
       "      <td>0.625703</td>\n",
       "    </tr>\n",
       "    <tr>\n",
       "      <th>366957</th>\n",
       "      <td>i have been feeling really overwhelmed and lik...</td>\n",
       "      <td>fear</td>\n",
       "      <td>surprise</td>\n",
       "      <td>0.818584</td>\n",
       "    </tr>\n",
       "    <tr>\n",
       "      <th>367137</th>\n",
       "      <td>i still feel highly suspicious but not unduly ...</td>\n",
       "      <td>fear</td>\n",
       "      <td>surprise</td>\n",
       "      <td>0.526403</td>\n",
       "    </tr>\n",
       "    <tr>\n",
       "      <th>367260</th>\n",
       "      <td>i feel totes weird</td>\n",
       "      <td>fear</td>\n",
       "      <td>surprise</td>\n",
       "      <td>0.498118</td>\n",
       "    </tr>\n",
       "  </tbody>\n",
       "</table>\n",
       "<p>5806 rows × 4 columns</p>\n",
       "</div>"
      ]
     },
     "execution_count": 79,
     "metadata": {},
     "output_type": "execute_result"
    }
   ],
   "execution_count": 79
  },
  {
   "metadata": {
    "ExecuteTime": {
     "end_time": "2025-01-28T11:54:47.256121Z",
     "start_time": "2025-01-28T11:54:47.231679Z"
    }
   },
   "cell_type": "code",
   "source": "len(disgust_zeilen.loc[df[\"emotions\"] == \"anger\"])/len(disgust_zeilen)\n",
   "id": "da05eded5cb60e62",
   "outputs": [
    {
     "data": {
      "text/plain": [
       "0.8694029850746269"
      ]
     },
     "execution_count": 80,
     "metadata": {},
     "output_type": "execute_result"
    }
   ],
   "execution_count": 80
  },
  {
   "metadata": {
    "ExecuteTime": {
     "end_time": "2025-01-28T11:54:47.424361Z",
     "start_time": "2025-01-28T11:54:47.333475Z"
    }
   },
   "cell_type": "code",
   "source": [
    "print(len(surprise_zeilen.loc[df[\"emotions\"] == \"anger\"])/len(surprise_zeilen))\n",
    "print(len(surprise_zeilen.loc[df[\"emotions\"] == \"fear\"])/len(surprise_zeilen))\n",
    "print(len(surprise_zeilen.loc[df[\"emotions\"] == \"joy\"])/len(surprise_zeilen))\n",
    "print(len(surprise_zeilen.loc[df[\"emotions\"] == \"sadness\"])/len(surprise_zeilen))"
   ],
   "id": "6d8c080c17952cdd",
   "outputs": [
    {
     "name": "stdout",
     "output_type": "stream",
     "text": [
      "0.03529411764705882\n",
      "0.5074003795066414\n",
      "0.3922201138519924\n",
      "0.0650853889943074\n"
     ]
    }
   ],
   "execution_count": 81
  },
  {
   "metadata": {
    "ExecuteTime": {
     "end_time": "2025-01-28T11:54:47.570438Z",
     "start_time": "2025-01-28T11:54:47.452725Z"
    }
   },
   "cell_type": "code",
   "source": [
    "df=df.replace(\"disgust\", \"anger\")\n",
    "falsche_zeilen = df.loc[df[\"emotions\"] != df[\"emotion_label\"]]\n",
    "1-(len(falsche_zeilen) / len(df[\"emotions\"]))"
   ],
   "id": "21a49cace3c837a5",
   "outputs": [
    {
     "data": {
      "text/plain": [
       "0.9180087289637691"
      ]
     },
     "execution_count": 82,
     "metadata": {},
     "output_type": "execute_result"
    }
   ],
   "execution_count": 82
  },
  {
   "metadata": {
    "ExecuteTime": {
     "end_time": "2025-01-28T11:54:47.699066Z",
     "start_time": "2025-01-28T11:54:47.576719Z"
    }
   },
   "cell_type": "code",
   "source": [
    "df=df.replace(\"surprise\", \"fear\")\n",
    "falsche_zeilen = df.loc[df[\"emotions\"] != df[\"emotion_label\"]]\n",
    "1-(len(falsche_zeilen) / len(df[\"emotions\"]))"
   ],
   "id": "d4b0901f20a73cc4",
   "outputs": [
    {
     "data": {
      "text/plain": [
       "0.9252892183956241"
      ]
     },
     "execution_count": 83,
     "metadata": {},
     "output_type": "execute_result"
    }
   ],
   "execution_count": 83
  }
 ],
 "metadata": {
  "kernelspec": {
   "display_name": "Python 3",
   "language": "python",
   "name": "python3"
  },
  "language_info": {
   "codemirror_mode": {
    "name": "ipython",
    "version": 2
   },
   "file_extension": ".py",
   "mimetype": "text/x-python",
   "name": "python",
   "nbconvert_exporter": "python",
   "pygments_lexer": "ipython2",
   "version": "2.7.6"
  }
 },
 "nbformat": 4,
 "nbformat_minor": 5
}
