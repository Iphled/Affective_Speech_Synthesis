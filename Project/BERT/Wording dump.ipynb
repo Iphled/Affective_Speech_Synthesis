{
 "cells": [
  {
   "cell_type": "code",
   "execution_count": null,
   "id": "initial_id",
   "metadata": {
    "collapsed": true
   },
   "outputs": [],
   "source": [
    "def change_fear(text):\n",
    "    return \"\\\"\"+text + \"\\\" she said, quivering in fear.\"\n",
    "\n",
    "\n",
    "surprise_fear['text'] = surprise_fear['text'].apply(change_fear)\n",
    "\n",
    "\n",
    "def change_joy(text):\n",
    "    return \"\\\"\"+text + (\"\\\" she said happily.\")\n",
    "\n",
    "\n",
    "surprise_joy['text'] = surprise_joy['text'].apply(change_joy)\n",
    "\n",
    "\n",
    "def change_sad(text):\n",
    "    return \"\\\"\"+text + \"\\\" she said sadly.\"\n",
    "\n",
    "\n",
    "surprise_sad['text'] = surprise_sad['text'].apply(change_sad)\n",
    "\n",
    "\n",
    "def change_ang(text):\n",
    "    return \"\\\"\"+text + \"\\\" she said, brimming with anger.\""
   ]
  },
  {
   "metadata": {},
   "cell_type": "code",
   "outputs": [],
   "execution_count": null,
   "source": [
    "def change_fear(text):\n",
    "    return \"I am extremely worried. \"+text\n",
    "\n",
    "\n",
    "surprise_fear['text'] = surprise_fear['text'].apply(change_fear)\n",
    "\n",
    "\n",
    "def change_joy(text):\n",
    "    return \"I am so happy. \"+text \n",
    "\n",
    "\n",
    "surprise_joy['text'] = surprise_joy['text'].apply(change_joy)\n",
    "\n",
    "\n",
    "def change_sad(text):\n",
    "    return \"I am very worried. \"+text + \"\"\n",
    "\n",
    "\n",
    "surprise_sad['text'] = surprise_sad['text'].apply(change_sad)\n",
    "\n",
    "\n",
    "def change_ang(text):\n",
    "    return \"I am very angry. \"+text + \"\"\n",
    "\n",
    "\n",
    "surprise_ang = surprise_ang['text'].apply(change_ang).values.tolist()\n",
    "surprise_sad = surprise_sad['text'].apply(change_sad).values.tolist()\n",
    "surprise_joy = surprise_joy['text'].apply(change_joy).values.tolist()\n",
    "surprise_fear = surprise_fear['text'].apply(change_ang).values.tolist()"
   ],
   "id": "1faae2505b2caf6d"
  }
 ],
 "metadata": {
  "kernelspec": {
   "display_name": "Python 3",
   "language": "python",
   "name": "python3"
  },
  "language_info": {
   "codemirror_mode": {
    "name": "ipython",
    "version": 2
   },
   "file_extension": ".py",
   "mimetype": "text/x-python",
   "name": "python",
   "nbconvert_exporter": "python",
   "pygments_lexer": "ipython2",
   "version": "2.7.6"
  }
 },
 "nbformat": 4,
 "nbformat_minor": 5
}
